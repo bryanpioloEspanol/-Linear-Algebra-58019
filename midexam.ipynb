{
  "nbformat": 4,
  "nbformat_minor": 0,
  "metadata": {
    "colab": {
      "name": "midexam.ipynb",
      "provenance": [],
      "authorship_tag": "ABX9TyMGbPbtNvYBb5V4MAer7hfh",
      "include_colab_link": true
    },
    "kernelspec": {
      "name": "python3",
      "display_name": "Python 3"
    },
    "language_info": {
      "name": "python"
    }
  },
  "cells": [
    {
      "cell_type": "markdown",
      "metadata": {
        "id": "view-in-github",
        "colab_type": "text"
      },
      "source": [
        "<a href=\"https://colab.research.google.com/github/bryanpioloEspanol/-Linear-Algebra-58019/blob/main/midexam.ipynb\" target=\"_parent\"><img src=\"https://colab.research.google.com/assets/colab-badge.svg\" alt=\"Open In Colab\"/></a>"
      ]
    },
    {
      "cell_type": "markdown",
      "metadata": {
        "id": "9GbuNFKmCvN9"
      },
      "source": [
        "# ***Question 1. Create a Python code that displays a square matrix whose length is 5***"
      ]
    },
    {
      "cell_type": "code",
      "metadata": {
        "colab": {
          "base_uri": "https://localhost:8080/"
        },
        "id": "etJh8FqOC7R3",
        "outputId": "ef5567e0-8640-459c-c31e-3bf9294c457d"
      },
      "source": [
        "import numpy as np \n",
        "d= np.full((5,5),5)# square matrix\n",
        "print(d)"
      ],
      "execution_count": 2,
      "outputs": [
        {
          "output_type": "stream",
          "name": "stdout",
          "text": [
            "[[5 5 5 5 5]\n",
            " [5 5 5 5 5]\n",
            " [5 5 5 5 5]\n",
            " [5 5 5 5 5]\n",
            " [5 5 5 5 5]]\n"
          ]
        }
      ]
    },
    {
      "cell_type": "markdown",
      "metadata": {
        "id": "CyJCwVIyDPfB"
      },
      "source": [
        "# ***Question 2. Create a Python code that displays a square matrix whose elements below the principal diagonal are zero***"
      ]
    },
    {
      "cell_type": "code",
      "metadata": {
        "colab": {
          "base_uri": "https://localhost:8080/"
        },
        "id": "JHFe9GKmDVrI",
        "outputId": "2c8969d5-26cc-4ab8-ff0f-2d3281f59016"
      },
      "source": [
        "import numpy as np\n",
        "g=np.zeros((5,5))\n",
        "print(g)\n"
      ],
      "execution_count": 3,
      "outputs": [
        {
          "output_type": "stream",
          "name": "stdout",
          "text": [
            "[[0. 0. 0. 0. 0.]\n",
            " [0. 0. 0. 0. 0.]\n",
            " [0. 0. 0. 0. 0.]\n",
            " [0. 0. 0. 0. 0.]\n",
            " [0. 0. 0. 0. 0.]]\n"
          ]
        }
      ]
    },
    {
      "cell_type": "markdown",
      "metadata": {
        "id": "sgYw0cusDmav"
      },
      "source": [
        "## ***Question 3. Create a Python code that displays a square matrix which is symmetrical ***"
      ]
    },
    {
      "cell_type": "code",
      "metadata": {
        "colab": {
          "base_uri": "https://localhost:8080/"
        },
        "id": "cZK49VDMDs48",
        "outputId": "275d2f0d-4ecc-4625-f331-0e05f772e1df"
      },
      "source": [
        "import numpy as np\n",
        "X= np.array([[1,2,3],[2,3,3],[3,4,-2]])\n",
        "print (\"Array is \",X)\n",
        "\n",
        "W = np.transpose(X)\n",
        "print(\"transpose is \", W)"
      ],
      "execution_count": 4,
      "outputs": [
        {
          "output_type": "stream",
          "name": "stdout",
          "text": [
            "Array is  [[ 1  2  3]\n",
            " [ 2  3  3]\n",
            " [ 3  4 -2]]\n",
            "transpose is  [[ 1  2  3]\n",
            " [ 2  3  4]\n",
            " [ 3  3 -2]]\n"
          ]
        }
      ]
    },
    {
      "cell_type": "markdown",
      "metadata": {
        "id": "Kcq_cXFREkTs"
      },
      "source": [
        "# **`*Question 4. What is the inverse of matrix C? Show your solution by python coding.*`**"
      ]
    },
    {
      "cell_type": "code",
      "metadata": {
        "colab": {
          "base_uri": "https://localhost:8080/"
        },
        "id": "iXK3QEa4EuHT",
        "outputId": "0284bfaf-6d7e-4cc1-d43b-e36a09b75535"
      },
      "source": [
        "import numpy as np\n",
        "C=np.array([[1,2,3],[2,3,3],[3,4,-2]])\n",
        "print(C)\n",
        "inv_C=np.linalg.inv(C)\n",
        "print(inv_C)"
      ],
      "execution_count": 5,
      "outputs": [
        {
          "output_type": "stream",
          "name": "stdout",
          "text": [
            "[[ 1  2  3]\n",
            " [ 2  3  3]\n",
            " [ 3  4 -2]]\n",
            "[[-3.6  3.2 -0.6]\n",
            " [ 2.6 -2.2  0.6]\n",
            " [-0.2  0.4 -0.2]]\n"
          ]
        }
      ]
    },
    {
      "cell_type": "markdown",
      "metadata": {
        "id": "_IBdzrHuFWko"
      },
      "source": [
        "# ***Question 5. What is the determinant of the given matrix in Question 4? Show your solution by python coding.***"
      ]
    },
    {
      "cell_type": "code",
      "metadata": {
        "colab": {
          "base_uri": "https://localhost:8080/"
        },
        "id": "3k4vL3aLFfFx",
        "outputId": "5af5932d-5a06-4d93-a17f-e7e916c669d9"
      },
      "source": [
        "C=np.array([[1,2,3],[2,3,3],[3,4,-2]]) #array\n",
        "print(C) # printing the array to see the result \n",
        "print (\"Determinant matrix is:\")\n",
        "print(np.linalg.det(C)) # result without round \n",
        "print(\"Determinant with roundoff matrix is;\" )\n",
        "print(round(np.linalg.det(C))) # to round up the result"
      ],
      "execution_count": 9,
      "outputs": [
        {
          "output_type": "stream",
          "name": "stdout",
          "text": [
            "[[ 1  2  3]\n",
            " [ 2  3  3]\n",
            " [ 3  4 -2]]\n",
            "Determinant matrix is:\n",
            "5.000000000000001\n",
            "Determinant with roundoff matrix is;\n",
            "5\n"
          ]
        }
      ]
    },
    {
      "cell_type": "markdown",
      "metadata": {
        "id": "StnVOcdYHHRJ"
      },
      "source": [
        "# ***Question 6. Find the roots of the linear equations by showing its python codes (30 points)***\n",
        "# ***5X1 + 4X2 + X3 = 3.4***\n",
        "# ***10X1 + 9X2 + 4X3 = 8.8***\n",
        "# **10X1 + 13X2 + 15X3 = 19.2**"
      ]
    },
    {
      "cell_type": "code",
      "metadata": {
        "colab": {
          "base_uri": "https://localhost:8080/"
        },
        "id": "k4Csf8QeHbHl",
        "outputId": "c7e9dd8a-b638-47ba-9bb5-e1797cc7d839"
      },
      "source": [
        "import numpy as np \n",
        "A = np.array([[5,4,-1],[10,9,4],[10,13,15]])\n",
        "print(A)\n",
        "inv_A=np.linalg.inv(A)\n",
        "print (inv_A)\n",
        "\n",
        "B = np.array([[3,4],[8,8],[19,2,]])\n",
        "print(B)\n",
        "\n",
        "#AA\"-1x _B.A\"-1\n",
        "X =np.dot(inv_A,B)\n",
        "print(X)"
      ],
      "execution_count": 10,
      "outputs": [
        {
          "output_type": "stream",
          "name": "stdout",
          "text": [
            "[[ 5  4 -1]\n",
            " [10  9  4]\n",
            " [10 13 15]]\n",
            "[[-1.27692308  1.12307692 -0.38461538]\n",
            " [ 1.69230769 -1.30769231  0.46153846]\n",
            " [-0.61538462  0.38461538 -0.07692308]]\n",
            "[[ 3  4]\n",
            " [ 8  8]\n",
            " [19  2]]\n",
            "[[-2.15384615  3.10769231]\n",
            " [ 3.38461538 -2.76923077]\n",
            " [-0.23076923  0.46153846]]\n"
          ]
        }
      ]
    }
  ]
}