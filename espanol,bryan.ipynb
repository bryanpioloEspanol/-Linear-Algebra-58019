{
  "nbformat": 4,
  "nbformat_minor": 0,
  "metadata": {
    "colab": {
      "name": "espanol,bryan.ipynb",
      "provenance": [],
      "collapsed_sections": [],
      "authorship_tag": "ABX9TyMAHC7iTSNWMJpyg+t0GECo",
      "include_colab_link": true
    },
    "kernelspec": {
      "name": "python3",
      "display_name": "Python 3"
    },
    "language_info": {
      "name": "python"
    }
  },
  "cells": [
    {
      "cell_type": "markdown",
      "metadata": {
        "id": "view-in-github",
        "colab_type": "text"
      },
      "source": [
        "<a href=\"https://colab.research.google.com/github/bryanpioloEspanol/-Linear-Algebra-58019/blob/main/espanol%2Cbryan.ipynb\" target=\"_parent\"><img src=\"https://colab.research.google.com/assets/colab-badge.svg\" alt=\"Open In Colab\"/></a>"
      ]
    },
    {
      "cell_type": "markdown",
      "metadata": {
        "id": "xCUklclVyiMv"
      },
      "source": [
        "##To find the Inverse of a Matrix, the matrix is passed to the linalg.Inv() of the NumPy module:"
      ]
    },
    {
      "cell_type": "code",
      "metadata": {
        "colab": {
          "base_uri": "https://localhost:8080/"
        },
        "id": "x0sVIHwEyyVW",
        "outputId": "ac5c7479-c920-41e0-bdf5-b64d15121444"
      },
      "source": [
        "import numpy as np\n",
        "A= np.array([[4,3],[-5,9]]) #Creation of matrix A\n",
        "print(A) #to display or print\n",
        "\n",
        "inv_A = np.linalg.inv(A) #to declare and creation of Inverse of A\n",
        "print(inv_A) #to display or print"
      ],
      "execution_count": 1,
      "outputs": [
        {
          "output_type": "stream",
          "name": "stdout",
          "text": [
            "[[ 4  3]\n",
            " [-5  9]]\n",
            "[[ 0.17647059 -0.05882353]\n",
            " [ 0.09803922  0.07843137]]\n"
          ]
        }
      ]
    },
    {
      "cell_type": "code",
      "metadata": {
        "colab": {
          "base_uri": "https://localhost:8080/"
        },
        "id": "GIDf5_FxzG9B",
        "outputId": "7bcbb7fa-d646-444e-e0fe-f9e183a3f393"
      },
      "source": [
        "B= np.array([[20],[26]]) #creation of Matrix B\n",
        "print(B)"
      ],
      "execution_count": 2,
      "outputs": [
        {
          "output_type": "stream",
          "name": "stdout",
          "text": [
            "[[20]\n",
            " [26]]\n"
          ]
        }
      ]
    },
    {
      "cell_type": "code",
      "metadata": {
        "colab": {
          "base_uri": "https://localhost:8080/"
        },
        "id": "W6jy749WzKgx",
        "outputId": "8558661f-b78a-48a5-8c0d-3d872da38dce"
      },
      "source": [
        "X= np.linalg.inv(A).dot(B) #compute for the dot product of Inv of A & value of B\n",
        "print(X)"
      ],
      "execution_count": 3,
      "outputs": [
        {
          "output_type": "stream",
          "name": "stdout",
          "text": [
            "[[2.]\n",
            " [4.]]\n"
          ]
        }
      ]
    },
    {
      "cell_type": "code",
      "metadata": {
        "colab": {
          "base_uri": "https://localhost:8080/"
        },
        "id": "fucVuJrRzPcZ",
        "outputId": "92459c35-83cb-45eb-96e4-468f805ffb7f"
      },
      "source": [
        "X= np.dot(inv_A,B) #to compute for the dot product of Inv of A and B\n",
        "print(X)"
      ],
      "execution_count": 4,
      "outputs": [
        {
          "output_type": "stream",
          "name": "stdout",
          "text": [
            "[[2.]\n",
            " [4.]]\n"
          ]
        }
      ]
    },
    {
      "cell_type": "markdown",
      "metadata": {
        "id": "7ysSgOJ7zTZH"
      },
      "source": [
        "##You Try!"
      ]
    },
    {
      "cell_type": "code",
      "metadata": {
        "colab": {
          "base_uri": "https://localhost:8080/"
        },
        "id": "vaWONQ9MzdWF",
        "outputId": "83eaf142-43e5-4834-ccf9-bd574fe3cc27"
      },
      "source": [
        "X = np.array([[4,3,2],[-2,2,3],[3,-5,2]]) #creation of Matrix X\n",
        "y = np.array([[25],[-10],[-4]]) #creation of Matix y\n",
        "\n",
        "inv_X = np.linalg.inv(X) #to Inverse the Matrix X\n",
        "b = np.linalg.inv(X).dot(y) #To get dot product of Inverse of X and y\n",
        "\n",
        "#to print or display\n",
        "print(X)\n",
        "print()\n",
        "print(inv_X)\n",
        "print()\n",
        "print(y)\n",
        "print()\n",
        "print(b)"
      ],
      "execution_count": 5,
      "outputs": [
        {
          "output_type": "stream",
          "name": "stdout",
          "text": [
            "[[ 4  3  2]\n",
            " [-2  2  3]\n",
            " [ 3 -5  2]]\n",
            "\n",
            "[[ 0.15447154 -0.1300813   0.04065041]\n",
            " [ 0.10569106  0.01626016 -0.1300813 ]\n",
            " [ 0.03252033  0.23577236  0.11382114]]\n",
            "\n",
            "[[ 25]\n",
            " [-10]\n",
            " [ -4]]\n",
            "\n",
            "[[ 5.]\n",
            " [ 3.]\n",
            " [-2.]]\n"
          ]
        }
      ]
    },
    {
      "cell_type": "code",
      "metadata": {
        "colab": {
          "base_uri": "https://localhost:8080/"
        },
        "id": "Ldr4wYL2zs3p",
        "outputId": "8cfd782e-86bc-4a9e-edb6-96ae99c6cad0"
      },
      "source": [
        "A= np.array([[20,10],[17,22]]) #creation of Matrix A\n",
        "print(A)\n",
        "inv_A = np.linalg.inv(A) #Inverse of matrix A\n",
        "print(inv_A)"
      ],
      "execution_count": 6,
      "outputs": [
        {
          "output_type": "stream",
          "name": "stdout",
          "text": [
            "[[20 10]\n",
            " [17 22]]\n",
            "[[ 0.08148148 -0.03703704]\n",
            " [-0.06296296  0.07407407]]\n"
          ]
        }
      ]
    },
    {
      "cell_type": "code",
      "metadata": {
        "colab": {
          "base_uri": "https://localhost:8080/"
        },
        "id": "di9i8T5qzxtn",
        "outputId": "2ab309fa-a535-443a-a506-8fc576b65696"
      },
      "source": [
        "B= np.array([[350],[500]]) #Creation of Matrix B\n",
        "print(B)"
      ],
      "execution_count": 7,
      "outputs": [
        {
          "output_type": "stream",
          "name": "stdout",
          "text": [
            "[[350]\n",
            " [500]]\n"
          ]
        }
      ]
    },
    {
      "cell_type": "code",
      "metadata": {
        "colab": {
          "base_uri": "https://localhost:8080/"
        },
        "id": "Cv8asWA2z1-T",
        "outputId": "79686dd6-9c2d-4507-d78d-e6b710f24b30"
      },
      "source": [
        "X = np.dot(inv_A,B) #To get dot product of Inverse of A and B\n",
        "\n",
        "print(X)"
      ],
      "execution_count": 8,
      "outputs": [
        {
          "output_type": "stream",
          "name": "stdout",
          "text": [
            "[[10.]\n",
            " [15.]]\n"
          ]
        }
      ]
    },
    {
      "cell_type": "markdown",
      "metadata": {
        "id": "nxL1ZTJyz665"
      },
      "source": [
        "###To check if the answer is correct"
      ]
    },
    {
      "cell_type": "code",
      "metadata": {
        "colab": {
          "base_uri": "https://localhost:8080/"
        },
        "id": "iPJ9aRbnz7yO",
        "outputId": "f8fc7a24-16a3-4090-c2de-94e02c06f3bb"
      },
      "source": [
        "B = np.dot(A,X)\n",
        "print(B)"
      ],
      "execution_count": 9,
      "outputs": [
        {
          "output_type": "stream",
          "name": "stdout",
          "text": [
            "[[350.]\n",
            " [500.]]\n"
          ]
        }
      ]
    }
  ]
}